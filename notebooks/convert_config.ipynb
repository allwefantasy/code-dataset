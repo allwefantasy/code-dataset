{
 "cells": [
  {
   "cell_type": "code",
   "execution_count": null,
   "id": "1",
   "metadata": {},
   "source": [
    "import json\n",
    "\n",
    "# 读取原始配置文件\n",
    "with open('/Users/allwefantasy/.code_dataset/config.json', 'r') as f:\n",
    "    old_config = json.load(f)\n",
    "\n",
    "# 转换配置格式\n",
    "new_config = {\n",
    "    \"repositories\": [\n",
    "        {\"url\": repo, \"alias\": repo.split('/')[-1]} \n",
    "        for repo in old_config[\"repositories\"]\n",
    "    ]\n",
    "}\n",
    "\n",
    "# 打印新的配置\n",
    "print(json.dumps(new_config, indent=2))\n",
    "\n",
    "# 保存新的配置文件\n",
    "with open('/Users/allwefantasy/.code_dataset/new_config.json', 'w') as f:\n",
    "    json.dump(new_config, f, indent=2)\n",
    "\n",
    "print(\"New configuration saved to /Users/allwefantasy/.code_dataset/new_config.json\")"
   ]
  }
 ],
 "metadata": {
  "kernelspec": {
   "display_name": "Python 3",
   "language": "python",
   "name": "python3"
  },
  "language_info": {
   "codemirror_mode": {
    "name": "ipython",
    "version": 3
   },
   "file_extension": ".py",
   "mimetype": "text/x-python",
   "name": "python",
   "nbconvert_exporter": "python",
   "pygments_lexer": "ipython3",
   "version": "3.8.5"
  }
 },
 "nbformat": 4,
 "nbformat_minor": 5
}